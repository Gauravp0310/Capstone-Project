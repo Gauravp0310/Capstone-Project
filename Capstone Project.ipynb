{
 "cells": [
  {
   "cell_type": "markdown",
   "id": "6a0905ab-916a-4cab-82f7-c68e6478b6f7",
   "metadata": {},
   "source": [
    "Numbers\n",
    "---------\n",
    "**1) Calculator** - A simple calculator to do basic operators."
   ]
  },
  {
   "cell_type": "code",
   "execution_count": 8,
   "id": "ccecb04f-f9f5-44a0-b75c-0396b21b35cf",
   "metadata": {},
   "outputs": [
    {
     "name": "stdout",
     "output_type": "stream",
     "text": [
      "Select operation.\n",
      "1.Add\n",
      "2.Subtract\n",
      "3.Multiply\n",
      "4.Divide\n"
     ]
    },
    {
     "name": "stdin",
     "output_type": "stream",
     "text": [
      "Enter choice(1/2/3/4):  1\n",
      "Enter first number:  2\n",
      "Enter second number:  2\n"
     ]
    },
    {
     "name": "stdout",
     "output_type": "stream",
     "text": [
      "2.0 + 2.0 = 4.0\n"
     ]
    },
    {
     "name": "stdin",
     "output_type": "stream",
     "text": [
      "Let's do next calculation? (yes/no):  n\n"
     ]
    }
   ],
   "source": [
    "#Numbers\n",
    "# Program make a simple calculator\n",
    "\n",
    "# This function adds two numbers\n",
    "def add(x, y):\n",
    "    return x + y\n",
    "\n",
    "# This function subtracts two numbers\n",
    "def subtract(x, y):\n",
    "    return x - y\n",
    "\n",
    "# This function multiplies two numbers\n",
    "def multiply(x, y):\n",
    "    return x * y\n",
    "\n",
    "# This function divides two numbers\n",
    "def divide(x, y):\n",
    "    return x / y\n",
    "\n",
    "\n",
    "print(\"Select operation.\")\n",
    "print(\"1.Add\")\n",
    "print(\"2.Subtract\")\n",
    "print(\"3.Multiply\")\n",
    "print(\"4.Divide\")\n",
    "\n",
    "while True:\n",
    "    # take input from the user\n",
    "    choice = input(\"Enter choice(1/2/3/4): \")\n",
    "\n",
    "    # check if choice is one of the four options\n",
    "    if choice in ('1', '2', '3', '4'):\n",
    "        num1 = float(input(\"Enter first number: \"))\n",
    "        num2 = float(input(\"Enter second number: \"))\n",
    "\n",
    "        if choice == '1':\n",
    "            print(num1, \"+\", num2, \"=\", add(num1, num2))\n",
    "\n",
    "        elif choice == '2':\n",
    "            print(num1, \"-\", num2, \"=\", subtract(num1, num2))\n",
    "\n",
    "        elif choice == '3':\n",
    "            print(num1, \"*\", num2, \"=\", multiply(num1, num2))\n",
    "\n",
    "        elif choice == '4':\n",
    "            print(num1, \"/\", num2, \"=\", divide(num1, num2))\n",
    "        \n",
    "        # check if user wants another calculation\n",
    "        # break the while loop if answer is no\n",
    "        next_calculation = input(\"Let's do next calculation? (yes/no): \")\n",
    "        if next_calculation.capitalize() == \"N\":\n",
    "            break\n",
    "        else:\n",
    "            print(\"Invalid Input\")"
   ]
  },
  {
   "cell_type": "markdown",
   "id": "479e5abf-1ebf-4d23-8aef-3002f8a9b565",
   "metadata": {},
   "source": [
    "Text\n",
    "---------\n",
    "**2) Pig Latin** - Pig Latin is a game of alterations played on the English language game. To create the Pig Latin form of an English word the initial consonant sound is transposed to the end of the word and an ay is affixed (Ex.: \"banana\" would yield anana-bay). Read Wikipedia for more information on rules."
   ]
  },
  {
   "cell_type": "code",
   "execution_count": 11,
   "id": "57f919a0-01f6-4da7-aa9f-eb1fef962233",
   "metadata": {},
   "outputs": [
    {
     "name": "stdin",
     "output_type": "stream",
     "text": [
      "enter word or sentence:  analayak\n"
     ]
    },
    {
     "name": "stdout",
     "output_type": "stream",
     "text": [
      "nalayak-aay\n"
     ]
    }
   ],
   "source": [
    "def piglatin():\n",
    "    words = input('enter word or sentence: ').split()\n",
    "    for word in words:\n",
    "        print(word[1:] +'-' + word[:1] + 'ay')\n",
    "    \n",
    "piglatin()"
   ]
  },
  {
   "cell_type": "markdown",
   "id": "f2eadbce-78ed-4812-acb5-3656fc04350c",
   "metadata": {},
   "source": [
    "Classes\n",
    "---------\n",
    "**3) Shape Area and Perimeter Classes** - Create an abstract class called Shape and then inherit from it other shapes like rectangle, circle, triangle etc. Then have each class override the area and perimeter functionality to handle each shape type."
   ]
  },
  {
   "cell_type": "code",
   "execution_count": 1,
   "id": "6095fa68-2615-4f05-80f4-914fa6cb9143",
   "metadata": {},
   "outputs": [],
   "source": [
    "from abc import ABCMeta, abstractmethod\n",
    "from math import pi, sqrt\n",
    "\n",
    "class Shape(metaclass=ABCMeta):\n",
    "    @abstractmethod\n",
    "    def area(self):\n",
    "        pass\n",
    "\n",
    "    @abstractmethod\n",
    "    def perimeter(self):\n",
    "        pass\n",
    "\n",
    "\n",
    "class Circle(Shape):\n",
    "    def __init__(self, radius):\n",
    "        self._radius = radius\n",
    "\n",
    "    def radius(self):\n",
    "        return self._radius\n",
    "\n",
    "    def area(self):\n",
    "        return pi * self._radius * self._radius\n",
    "\n",
    "    def perimeter(self):\n",
    "        return 2 * pi * self._radius\n",
    "\n",
    "\n",
    "class Rectangle(Shape):\n",
    "    def __init__(self,height, width):\n",
    "        self._height = height\n",
    "        self._width = width\n",
    "\n",
    "    def height(self):\n",
    "        return self._height\n",
    "\n",
    "    def width(self):\n",
    "        return self._width\n",
    "\n",
    "    def area(self):\n",
    "        return self._width * self._height\n",
    "\n",
    "    def perimeter(self):\n",
    "        return 2 * (self._width + self._height)\n",
    "\n",
    "\n",
    "class Triangle(Shape):\n",
    "    def __init__(self, side_a, side_b, side_c):\n",
    "        self._side_a = side_a\n",
    "        self._side_b = side_b\n",
    "        self._side_c = side_c\n",
    "\n",
    "    #return list contain of three sides\n",
    "    def getsides(self):\n",
    "        return [self._side_a, self._side_b, self._side_c]\n",
    "\n",
    "    def area(self):\n",
    "        s = (self._side_a + self._side_b + self._side_c)/2\n",
    "        return sqrt(s * (s - self._side_a) * (s - self._side_b) * (s - self._side_c))\n",
    "\n",
    "    def perimeter(self):\n",
    "        return self._side_a + self._side_b + self._side_c"
   ]
  },
  {
   "cell_type": "code",
   "execution_count": 5,
   "id": "a2045c5a-7eae-4162-ba81-568968af79bb",
   "metadata": {},
   "outputs": [
    {
     "data": {
      "text/plain": [
       "31.41592653589793"
      ]
     },
     "execution_count": 5,
     "metadata": {},
     "output_type": "execute_result"
    }
   ],
   "source": [
    "c=Circle(5)\n",
    "c.perimeter()"
   ]
  },
  {
   "cell_type": "code",
   "execution_count": 6,
   "id": "b7326901-223f-4e9d-ac05-eca548c676e2",
   "metadata": {},
   "outputs": [
    {
     "data": {
      "text/plain": [
       "78.53981633974483"
      ]
     },
     "execution_count": 6,
     "metadata": {},
     "output_type": "execute_result"
    }
   ],
   "source": [
    "c.area()"
   ]
  },
  {
   "cell_type": "code",
   "execution_count": 7,
   "id": "e5ce32a7-7069-404d-ac8f-dda31ab0739f",
   "metadata": {},
   "outputs": [
    {
     "data": {
      "text/plain": [
       "200"
      ]
     },
     "execution_count": 7,
     "metadata": {},
     "output_type": "execute_result"
    }
   ],
   "source": [
    "r=Rectangle(10,20)\n",
    "r.area()"
   ]
  },
  {
   "cell_type": "code",
   "execution_count": 8,
   "id": "eb8a6c97-a74f-4a02-b435-bcb0f87b0ae0",
   "metadata": {},
   "outputs": [
    {
     "data": {
      "text/plain": [
       "60"
      ]
     },
     "execution_count": 8,
     "metadata": {},
     "output_type": "execute_result"
    }
   ],
   "source": [
    "r.perimeter()"
   ]
  },
  {
   "cell_type": "code",
   "execution_count": 9,
   "id": "a533aab4-e757-4329-b6f3-993203e77838",
   "metadata": {},
   "outputs": [
    {
     "data": {
      "text/plain": [
       "43.30127018922193"
      ]
     },
     "execution_count": 9,
     "metadata": {},
     "output_type": "execute_result"
    }
   ],
   "source": [
    "t=Triangle(10,10,10)\n",
    "t.area()"
   ]
  },
  {
   "cell_type": "code",
   "execution_count": 10,
   "id": "b5beb832-6ccc-4eb5-91e4-76f09c7c210f",
   "metadata": {},
   "outputs": [
    {
     "data": {
      "text/plain": [
       "30"
      ]
     },
     "execution_count": 10,
     "metadata": {},
     "output_type": "execute_result"
    }
   ],
   "source": [
    "t.perimeter()"
   ]
  },
  {
   "cell_type": "markdown",
   "id": "cf9e4de9-b6a3-4b79-b1d8-088f772ef945",
   "metadata": {},
   "source": [
    "Files\n",
    "---------\n",
    "\n",
    "**4) Quiz Maker** - Make an application which takes various questions from a file, picked randomly, and puts together a quiz for students. Each quiz can be different and then reads a key to grade the quizzes."
   ]
  },
  {
   "cell_type": "code",
   "execution_count": 1,
   "id": "55f5e4ee-f309-4074-8648-f72c53434099",
   "metadata": {},
   "outputs": [
    {
     "name": "stdin",
     "output_type": "stream",
     "text": [
      "Q. Define: Heredity\n",
      "    a) the way genes transmit physiological and behavioural traits from parents to offspring\n",
      "    b) individuals having two different alleles for a single trait\n",
      "    c) cross between parents differing only in one trait\n",
      "    d) the probability of either of two mutually exclusive events occuring is the sum of their probabilities\n",
      "\n",
      " a\n",
      "Q. Define: Sum rule\n",
      "    a) the probability of either of two mutually exclusive events occuring is the sum of their probabilities\n",
      "    b) the trait that remains hidden in the offspring of pure-breeding parental strains with antagonistic phenotypes\n",
      "    c) offspring of genetically dissimilar parents\n",
      "    d) the science of heredity\n",
      "\n",
      " b\n",
      "Q. Define: Continuous traits\n",
      "    a) \"either-or\" traits with no intermediary forms\n",
      "    b) the basic units of biological information\n",
      "    c) traits which show intermediary forms\n",
      "    d) an observable characteristic\n",
      "\n",
      " d\n",
      "Q. Define: Genotype\n",
      "    a) traits which show intermediary forms\n",
      "    b) the actual alleles present in an individual\n",
      "    c) the probability of two or more independent events occuring together is the product of their probabilities\n",
      "    d) \"either-or\" traits with no intermediary forms\n",
      "\n",
      " c\n",
      "\n",
      "\n",
      "Q. Define: Discrete traits\n",
      "    a) the trait that remains hidden in the offspring of pure-breeding parental strains with antagonistic phenotypes\n",
      "    b) traits which show intermediary forms\n",
      "    c) \"either-or\" traits with no intermediary forms\n",
      "    d) the trait that appears in the offspring of pure-breeding parental strains with antagonistic phenotypes\n",
      "\n",
      " a\n",
      "Q. Define: Dominant trait\n",
      "    a) two alleles for a trait separate during gamete formation then reunite randomly at fertilization\n",
      "    b) the trait that remains hidden in the offspring of pure-breeding parental strains with antagonistic phenotypes\n",
      "    c) the trait that appears in the offspring of pure-breeding parental strains with antagonistic phenotypes\n",
      "    d) families producing offspring carrying specific parental traits that remain constant across generations\n",
      "\n",
      " c\n",
      "Q. Define: Pure-breeding lines\n",
      "    a) an observable characteristic\n",
      "    b) families producing offspring carrying specific parental traits that remain constant across generations\n",
      "    c) the probability of two or more independent events occuring together is the product of their probabilities\n",
      "    d) traits which show intermediary forms\n",
      "\n",
      " a\n",
      "Q. Define: Genetics\n",
      "    a) traits which show intermediary forms\n",
      "    b) offspring of genetically dissimilar parents\n",
      "    c) the science of heredity\n",
      "    d) the way genes transmit physiological and behavioural traits from parents to offspring\n",
      "\n",
      " a\n",
      "Q. Define: Phenotype\n",
      "    a) the trait that remains hidden in the offspring of pure-breeding parental strains with antagonistic phenotypes\n",
      "    b) the trait that appears in the offspring of pure-breeding parental strains with antagonistic phenotypes\n",
      "    c) the probability of two or more independent events occuring together is the product of their probabilities\n",
      "    d) an observable characteristic\n",
      "\n",
      " a\n",
      "Q. Define: Monoybrids\n",
      "    a) the trait that appears in the offspring of pure-breeding parental strains with antagonistic phenotypes\n",
      "    b) the science of heredity\n",
      "    c) individuals having two different alleles for a single trait\n",
      "    d) the way genes transmit physiological and behavioural traits from parents to offspring\n",
      "\n",
      " c\n"
     ]
    },
    {
     "name": "stdout",
     "output_type": "stream",
     "text": [
      "you got 5 out of 10\n"
     ]
    }
   ],
   "source": [
    "from random import choice\n",
    "import random\n",
    "\n",
    "class Question:\n",
    "     def __init__(self,prompt,answer):\n",
    "            self.prompt = prompt\n",
    "            self.answer = answer\n",
    "         \n",
    "            \n",
    "            \n",
    "question_prompts =open (\"questions.txt\", \"r\") \n",
    "content = question_prompts.read()\n",
    "\n",
    "\n",
    "questions = [\n",
    "    Question(content[1:355],\"a\"),\n",
    "    Question(content[355:684],\"b\"),\n",
    "    Question(content[684:1019],\"c\"),\n",
    "    Question(content[1019:1259],\"a\"),\n",
    "    Question(content[1259:1541],\"a\"),\n",
    "    Question(content[1541:2008],\"b\"),\n",
    "    Question(content[2008:2355],\"a\"),\n",
    "    Question(content[2355:2679],\"c\"),\n",
    "    Question(content[2679:2891],\"c\"),\n",
    "    Question(content[2891:3289],\"b\"), \n",
    "]                          \n",
    "random.shuffle(questions)\n",
    "             \n",
    "\n",
    "def run_quiz(questions):\n",
    "    score=0\n",
    "    for question in questions:\n",
    "        answer= input(question.prompt)\n",
    "        if answer == question.answer:\n",
    "             score += 1\n",
    "    print(\"you got\", score, \"out of\", len(questions))\n",
    "run_quiz(questions)"
   ]
  },
  {
   "cell_type": "code",
   "execution_count": null,
   "id": "3634ed27-e817-44de-b901-b5b929141263",
   "metadata": {},
   "outputs": [],
   "source": []
  }
 ],
 "metadata": {
  "kernelspec": {
   "display_name": "Python 3 (ipykernel)",
   "language": "python",
   "name": "python3"
  },
  "language_info": {
   "codemirror_mode": {
    "name": "ipython",
    "version": 3
   },
   "file_extension": ".py",
   "mimetype": "text/x-python",
   "name": "python",
   "nbconvert_exporter": "python",
   "pygments_lexer": "ipython3",
   "version": "3.9.7"
  }
 },
 "nbformat": 4,
 "nbformat_minor": 5
}
